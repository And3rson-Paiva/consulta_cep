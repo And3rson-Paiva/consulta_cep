{
 "cells": [
  {
   "cell_type": "markdown",
   "id": "965b63c9",
   "metadata": {},
   "source": [
    "# ViaCEP"
   ]
  },
  {
   "cell_type": "markdown",
   "id": "ebbbe1d8",
   "metadata": {},
   "source": [
    "http://viacep.com.br/"
   ]
  },
  {
   "cell_type": "code",
   "execution_count": 58,
   "id": "796a2fda",
   "metadata": {},
   "outputs": [],
   "source": [
    "import requests"
   ]
  },
  {
   "cell_type": "code",
   "execution_count": 66,
   "id": "93fa1e3c",
   "metadata": {},
   "outputs": [],
   "source": [
    "def busca_cep():\n",
    "    cep = input('Digite o cep para pesquisa de endereço: ')    \n",
    "    if len(cep)== 8:\n",
    "        link = f'https://viacep.com.br/ws/{cep}/json/'\n",
    "        requisicao = requests.get(link)\n",
    "        print(f'Status da requisição: ', requisicao.status_code)\n",
    "        dicio_requisicao = requisicao.json()\n",
    "        logradouro = dicio_requisicao['logradouro']\n",
    "        complemento = dicio_requisicao['complemento']\n",
    "        bairro = dicio_requisicao['bairro']\n",
    "        localidade = dicio_requisicao['localidade']\n",
    "        uf = dicio_requisicao['uf']\n",
    "        print(f'Logradouro: {logradouro}, complemento: {complemento}, bairro: {bairro}, localidade: {localidade}, UF: {uf}')\n",
    "    else:\n",
    "        print(f'Cep inválido')\n",
    "    return "
   ]
  },
  {
   "cell_type": "code",
   "execution_count": 67,
   "id": "13a3731a",
   "metadata": {},
   "outputs": [
    {
     "name": "stdout",
     "output_type": "stream",
     "text": [
      "Digite o cep para pesquisa de endereço: 20785020\n",
      "Status da requisição:  200\n",
      "Logradouro: Rua Americana, complemento: , bairro: Cachambi, localidade: Rio de Janeiro, UF: RJ\n"
     ]
    }
   ],
   "source": [
    "busca_cep()"
   ]
  },
  {
   "cell_type": "code",
   "execution_count": null,
   "id": "a2cb1193",
   "metadata": {},
   "outputs": [],
   "source": []
  }
 ],
 "metadata": {
  "kernelspec": {
   "display_name": "Python 3 (ipykernel)",
   "language": "python",
   "name": "python3"
  },
  "language_info": {
   "codemirror_mode": {
    "name": "ipython",
    "version": 3
   },
   "file_extension": ".py",
   "mimetype": "text/x-python",
   "name": "python",
   "nbconvert_exporter": "python",
   "pygments_lexer": "ipython3",
   "version": "3.9.2"
  }
 },
 "nbformat": 4,
 "nbformat_minor": 5
}
