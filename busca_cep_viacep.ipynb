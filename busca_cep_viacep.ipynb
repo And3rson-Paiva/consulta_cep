{
 "cells": [
  {
   "cell_type": "markdown",
   "id": "ad961091",
   "metadata": {},
   "source": [
    "# ViaCEP"
   ]
  },
  {
   "cell_type": "markdown",
   "id": "2db55866",
   "metadata": {},
   "source": [
    "http://viacep.com.br/"
   ]
  },
  {
   "cell_type": "code",
   "execution_count": 58,
   "id": "b1bf3133",
   "metadata": {},
   "outputs": [],
   "source": [
    "import requests"
   ]
  },
  {
   "cell_type": "code",
   "execution_count": 64,
   "id": "1e04d486",
   "metadata": {},
   "outputs": [],
   "source": [
    "def busca_cep():\n",
    "    cep = input('Digite o cep para pesquisa de endereço: ')    \n",
    "    if len(cep)== 8:\n",
    "        link = f'https://viacep.com.br/ws/{cep}/json/'\n",
    "        requisicao = requests.get(link)\n",
    "        print(f'Status da requisição: ', requisicao.status_code)\n",
    "        dicio_requisicao = requisicao.json()\n",
    "        print(dicio_requisicao)\n",
    "        logradouro = dicio_requisicao['logradouro']\n",
    "        complemento = dicio_requisicao['complemento']\n",
    "        bairro = dicio_requisicao['bairro']\n",
    "        localidade = dicio_requisicao['localidade']\n",
    "        uf = dicio_requisicao['uf']\n",
    "        print(f'Logradouro: {logradouro}, complemento: {complemento}, bairro: {bairro}, localidade: {localidade}, UF: {uf}')\n",
    "    else:\n",
    "        print(f'Cep inválido')\n",
    "    return "
   ]
  },
  {
   "cell_type": "code",
   "execution_count": 65,
   "id": "f675650a",
   "metadata": {},
   "outputs": [
    {
     "name": "stdout",
     "output_type": "stream",
     "text": [
      "Digite o cep para pesquisa de endereço: 21555250\n",
      "Status da requisição:  200\n",
      "{'cep': '21555-250', 'logradouro': 'Rua Igarata', 'complemento': '', 'bairro': 'Marechal Hermes', 'localidade': 'Rio de Janeiro', 'uf': 'RJ', 'ibge': '3304557', 'gia': '', 'ddd': '21', 'siafi': '6001'}\n",
      "Logradouro: Rua Igarata, complemento: , bairro: Marechal Hermes, localidade: Rio de Janeiro, UF: RJ\n"
     ]
    }
   ],
   "source": [
    "busca_cep()"
   ]
  },
  {
   "cell_type": "code",
   "execution_count": null,
   "id": "a507afc9",
   "metadata": {},
   "outputs": [],
   "source": []
  }
 ],
 "metadata": {
  "kernelspec": {
   "display_name": "Python 3 (ipykernel)",
   "language": "python",
   "name": "python3"
  },
  "language_info": {
   "codemirror_mode": {
    "name": "ipython",
    "version": 3
   },
   "file_extension": ".py",
   "mimetype": "text/x-python",
   "name": "python",
   "nbconvert_exporter": "python",
   "pygments_lexer": "ipython3",
   "version": "3.9.2"
  }
 },
 "nbformat": 4,
 "nbformat_minor": 5
}
